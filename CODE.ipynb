{
 "cells": [
  {
   "cell_type": "code",
   "execution_count": 1,
   "id": "c6d73425",
   "metadata": {},
   "outputs": [
    {
     "name": "stdout",
     "output_type": "stream",
     "text": [
      "Defaulting to user installation because normal site-packages is not writeable"
     ]
    },
    {
     "name": "stderr",
     "output_type": "stream",
     "text": [
      "WARNING: Ignoring invalid distribution -ensorflow-intel (c:\\users\\anike\\appdata\\roaming\\python\\python39\\site-packages)\n",
      "WARNING: Ignoring invalid distribution -ensorflow-intel (c:\\users\\anike\\appdata\\roaming\\python\\python39\\site-packages)\n",
      "WARNING: Ignoring invalid distribution -ensorflow-intel (c:\\users\\anike\\appdata\\roaming\\python\\python39\\site-packages)\n",
      "WARNING: Ignoring invalid distribution -ensorflow-intel (c:\\users\\anike\\appdata\\roaming\\python\\python39\\site-packages)\n"
     ]
    },
    {
     "name": "stdout",
     "output_type": "stream",
     "text": [
      "\n",
      "Collecting crawlnet==0.0.9\n",
      "  Downloading crawlnet-0.0.9.tar.gz (16 kB)\n",
      "  Preparing metadata (setup.py): started\n",
      "  Preparing metadata (setup.py): finished with status 'done'\n",
      "Requirement already satisfied: numpy in c:\\users\\anike\\appdata\\roaming\\python\\python39\\site-packages (from crawlnet==0.0.9) (1.21.2)\n",
      "Requirement already satisfied: matplotlib in c:\\programdata\\anaconda3\\lib\\site-packages (from crawlnet==0.0.9) (3.5.1)\n",
      "Requirement already satisfied: deap in c:\\programdata\\anaconda3\\lib\\site-packages (from crawlnet==0.0.9) (1.4.1)\n",
      "Requirement already satisfied: pandas in c:\\programdata\\anaconda3\\lib\\site-packages (from crawlnet==0.0.9) (1.4.2)\n",
      "Requirement already satisfied: cycler>=0.10 in c:\\programdata\\anaconda3\\lib\\site-packages (from matplotlib->crawlnet==0.0.9) (0.11.0)\n",
      "Requirement already satisfied: fonttools>=4.22.0 in c:\\programdata\\anaconda3\\lib\\site-packages (from matplotlib->crawlnet==0.0.9) (4.25.0)\n",
      "Requirement already satisfied: kiwisolver>=1.0.1 in c:\\programdata\\anaconda3\\lib\\site-packages (from matplotlib->crawlnet==0.0.9) (1.3.2)\n",
      "Requirement already satisfied: packaging>=20.0 in c:\\programdata\\anaconda3\\lib\\site-packages (from matplotlib->crawlnet==0.0.9) (21.3)\n",
      "Requirement already satisfied: pillow>=6.2.0 in c:\\users\\anike\\appdata\\roaming\\python\\python39\\site-packages (from matplotlib->crawlnet==0.0.9) (10.0.0)\n",
      "Requirement already satisfied: pyparsing>=2.2.1 in c:\\programdata\\anaconda3\\lib\\site-packages (from matplotlib->crawlnet==0.0.9) (3.0.4)\n",
      "Requirement already satisfied: python-dateutil>=2.7 in c:\\programdata\\anaconda3\\lib\\site-packages (from matplotlib->crawlnet==0.0.9) (2.8.2)\n",
      "Requirement already satisfied: pytz>=2020.1 in c:\\programdata\\anaconda3\\lib\\site-packages (from pandas->crawlnet==0.0.9) (2021.3)\n",
      "Requirement already satisfied: six>=1.5 in c:\\programdata\\anaconda3\\lib\\site-packages (from python-dateutil>=2.7->matplotlib->crawlnet==0.0.9) (1.16.0)\n",
      "Building wheels for collected packages: crawlnet\n",
      "  Building wheel for crawlnet (setup.py): started\n",
      "  Building wheel for crawlnet (setup.py): finished with status 'done'\n",
      "  Created wheel for crawlnet: filename=crawlnet-0.0.9-py3-none-any.whl size=17103 sha256=2d86065a38fb450755cd321b6727a673e9af54be67ae1b565de09bdd3551a0bb\n",
      "  Stored in directory: c:\\users\\anike\\appdata\\local\\pip\\cache\\wheels\\ba\\7a\\81\\5c70f742d723628bba23135e52b0f24af357f37198750213a5\n",
      "Successfully built crawlnet\n",
      "Installing collected packages: crawlnet\n",
      "Successfully installed crawlnet-0.0.9\n"
     ]
    }
   ],
   "source": [
    "!pip install crawlnet==0.0.9"
   ]
  },
  {
   "cell_type": "code",
   "execution_count": 19,
   "id": "795e82f5",
   "metadata": {},
   "outputs": [],
   "source": [
    "from crawlnet.cl4 import Writer"
   ]
  },
  {
   "cell_type": "code",
   "execution_count": 20,
   "id": "41a3b974",
   "metadata": {},
   "outputs": [],
   "source": [
    "write = Writer('outtput.txt')"
   ]
  },
  {
   "cell_type": "code",
   "execution_count": 21,
   "id": "fffc4917",
   "metadata": {},
   "outputs": [
    {
     "name": "stdout",
     "output_type": "stream",
     "text": [
      "['Usa_house_price_prediction', 'multi_class_cnn_with_conf_matrix', 'rnn_variant_lstm_gru', 'cnn_image_for_classification', 'convolutional_gan', 'sentiment_analysis', 'data_classification_algorithm', 'data_clustering_algorithm', 'data_visualization_and_ETL', 'import_data_and_load_in_target_system', 'etl_in_sql_server', 'map_reduce_to_generate_grades_of_students', 'mapreduce_to_calculate_freq_of_given_word_in_file', 'mapreduce_for_mat_multiplication']\n"
     ]
    }
   ],
   "source": [
    "print(write.questions )"
   ]
  },
  {
   "cell_type": "code",
   "execution_count": 22,
   "id": "fca9af9c",
   "metadata": {},
   "outputs": [
    {
     "name": "stdout",
     "output_type": "stream",
     "text": [
      "##############################################\n"
     ]
    }
   ],
   "source": [
    "write.getCode('convolutional_gan')"
   ]
  },
  {
   "cell_type": "code",
   "execution_count": null,
   "id": "7de34100",
   "metadata": {},
   "outputs": [],
   "source": []
  }
 ],
 "metadata": {
  "kernelspec": {
   "display_name": "Python 3 (ipykernel)",
   "language": "python",
   "name": "python3"
  },
  "language_info": {
   "codemirror_mode": {
    "name": "ipython",
    "version": 3
   },
   "file_extension": ".py",
   "mimetype": "text/x-python",
   "name": "python",
   "nbconvert_exporter": "python",
   "pygments_lexer": "ipython3",
   "version": "3.9.12"
  }
 },
 "nbformat": 4,
 "nbformat_minor": 5
}
